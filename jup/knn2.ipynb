{
 "cells": [
  {
   "cell_type": "markdown",
   "id": "5b222152",
   "metadata": {},
   "source": [
    "# K-Nearest Neighbor\n",
    "KNN is a very simple supervised machine learning algorithm to classify data\n",
    "![k nearest neighbor 7](pics/k7nn.JPG)\n"
   ]
  },
  {
   "cell_type": "markdown",
   "id": "5760bc6d",
   "metadata": {},
   "source": [
    "## Imports\n",
    "---"
   ]
  },
  {
   "cell_type": "code",
   "execution_count": 3,
   "id": "756ffeaf",
   "metadata": {},
   "outputs": [],
   "source": [
    "from math import sqrt\n",
    "from matplotlib import pyplot as plt\n",
    "import numpy as np "
   ]
  },
  {
   "cell_type": "markdown",
   "id": "5ffa7fd3",
   "metadata": {},
   "source": [
    "## Define Euclidean Distance Function \n",
    "Implement a function which computes the Euclidean distance between two n dimensinal vectors. These vectors are stored as arrays.\n",
    "The function takes two arrays as an input and computes the distance between these two vectors.\n",
    "![euclidean](pics/euclidean.JPG)\n",
    "***"
   ]
  },
  {
   "cell_type": "code",
   "execution_count": 3,
   "id": "21e636bb",
   "metadata": {},
   "outputs": [],
   "source": [
    "def euclidean_distance(vec1, vec2):\n",
    "    distance = 0.0\n",
    "    for i in range(len(vec1) - 1):\n",
    "        distance += (vec1[i] - vec2[i]) ** 2\n",
    "    distance = sqrt(distance)\n",
    "    return distance"
   ]
  },
  {
   "cell_type": "markdown",
   "id": "3432368d",
   "metadata": {},
   "source": [
    "## Define Neighbour Function\n",
    "Implement a function which computes the k nearest neighbours of a set of training data.\n",
    "***"
   ]
  },
  {
   "cell_type": "code",
   "execution_count": 4,
   "id": "709205d2",
   "metadata": {
    "trusted": true,
    "deletable": false,
    "editable": false
   },
   "outputs": [],
   "source": [
    "def get_neighbors(train, test_row, num_neighbors):\n",
    "    distances = list()\n",
    "    for train_row in train:\n",
    "        dist = euclidean_distance(test_row, train_row)\n",
    "        distances.append((train_row, dist))\n",
    "    distances.sort(key=lambda tup: tup[1])\n",
    "    neighbors = list()\n",
    "    for i in range(num_neighbors):\n",
    "        neighbors.append(distances[i][0])\n",
    "    return neighbors"
   ]
  },
  {
   "cell_type": "code",
   "execution_count": 5,
   "id": "424290c9",
   "metadata": {},
   "outputs": [],
   "source": [
    "# Make a classification prediction with neighbors\n",
    "# param train 2D array. Array of 3 dim array: x,y,classlabel\n",
    "# param test_row testarray of length 3\n",
    "# param num_neighbors\n",
    "def predict_classification(train, test_row, num_neighbors):\n",
    "    neighbors = get_neighbors(train, test_row, num_neighbors)\n",
    "    output_values = [row[-1] for row in neighbors]\n",
    "    prediction = max(set(output_values), key=output_values.count)\n",
    "    return prediction"
   ]
  },
  {
   "cell_type": "markdown",
   "id": "9d595748",
   "metadata": {},
   "source": [
    "## Generate a training and test dataset\n"
   ]
  },
  {
   "cell_type": "code",
   "execution_count": 26,
   "id": "23b36d04",
   "metadata": {},
   "outputs": [],
   "source": [
    "dataset_training = [[2.7810836, 2.550537003, 0],\n",
    "            [1.465489372, 2.362125076, 0],\n",
    "            [3.396561688, 4.400293529, 0],\n",
    "            [1.38807019, 1.850220317, 0],\n",
    "            [3.06407232, 3.005305973, 0],\n",
    "            [7.627531214, 2.759262235, 1],\n",
    "            [5.332441248, 2.088626775, 1],\n",
    "            [6.922596716, 1.77106367, 1],\n",
    "            [8.675418651, -0.242068655, 1],\n",
    "            [7.673756466, 3.508563011, 1]]\n",
    "dataset_test = [[4.2, 1.9, 0],[1.2, 2.9, 0]]"
   ]
  },
  {
   "cell_type": "markdown",
   "id": "fb4f46b0",
   "metadata": {},
   "source": [
    "## Results\n",
    "Run KNN with your dataset"
   ]
  },
  {
   "cell_type": "code",
   "execution_count": 10,
   "id": "a332da27",
   "metadata": {},
   "outputs": [
    {
     "name": "stdout",
     "output_type": "stream",
     "text": [
      "Expected 0, Got 0.\n",
      "Expected 0, Got 0.\n",
      "Accuracy 1.000000 \n"
     ]
    }
   ],
   "source": [
    "trueValues = 0\n",
    "falseValues = 0\n",
    "accuracy = 0\n",
    "for testdata in dataset_test:\n",
    "    prediction = predict_classification(dataset_training, testdata, 5)\n",
    "    print('Expected %d, Got %d.' % (testdata[-1], prediction))\n",
    "    if testdata[-1] == prediction:\n",
    "        trueValues += 1\n",
    "    else:\n",
    "        falseValues += 1\n",
    "accuracy = trueValues / (trueValues+falseValues)\n",
    "print('Accuracy %f ' % accuracy)"
   ]
  },
  {
   "cell_type": "code",
   "execution_count": 44,
   "id": "45ee37d7",
   "metadata": {},
   "outputs": [
    {
     "data": {
      "image/png": "[encoded data removed]",
      "text/plain": [
       "<Figure size 432x288 with 1 Axes>"
      ]
     },
     "metadata": {
      "needs_background": "light"
     },
     "output_type": "display_data"
    }
   ],
   "source": [
    "dt = np.asarray(dataset_training)\n",
    "x = dt[:,0]\n",
    "y = dt[:,1]\n",
    "plt.title(\"Cats and Dogs\") \n",
    "plt.xlabel(\"Height\") \n",
    "plt.ylabel(\"Len Ears\") \n",
    "plt.scatter(x,y) \n",
    "plt.show()"
   ]
  }
 ],
 "metadata": {
  "kernelspec": {
   "display_name": "Python 3 (ipykernel)",
   "language": "python",
   "name": "python3"
  },
  "language_info": {
   "codemirror_mode": {
    "name": "ipython",
    "version": 3
   },
   "file_extension": ".py",
   "mimetype": "text/x-python",
   "name": "python",
   "nbconvert_exporter": "python",
   "pygments_lexer": "ipython3",
   "version": "3.8.3"
  }
 },
 "nbformat": 4,
 "nbformat_minor": 5
}
