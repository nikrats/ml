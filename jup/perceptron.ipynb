{
 "cells": [
  {
   "cell_type": "markdown",
   "id": "5b222152",
   "metadata": {},
   "source": [
    "# Perceptron\n",
    "The perceptron is a very simple neural unit. In 1958 the psychologist Frank Rosenblatt published the idee of the perceptron. A perceptron takes multiple inputs, and each of the input values is multiplied by its weight. A bias (threshold value) is added to this weighted sum. A binary output is produced by applying an activation function to the weighted sum. The perceptron’s activation function is the step function. This is a piecewise linear function.\n",
    "![k nearest neighbor 7](pics/perceptron2.JPG)\n",
    "For an instructional video see: [Perceptron Algorithm with Code Example](https://www.youtube.com/watch?v=-KLnurhX-Pg&t=219s)"
   ]
  },
  {
   "cell_type": "markdown",
   "id": "5760bc6d",
   "metadata": {},
   "source": [
    "## Task 1: Implement the weighted sum function\n",
    "---\n",
    "Input of the weightedSum function is an array of weights and input, as well as a single numeric value bias.  \n",
    "\n",
    "Example function call:\n",
    "    weightedSum([2, 4], [1, 0.5],-1)"
   ]
  },
  {
   "cell_type": "code",
   "execution_count": 1,
   "id": "5adae7d3",
   "metadata": {},
   "outputs": [],
   "source": [
    "def weightedSum(x_input, w_weights, bias):\n",
    "    s = 0\n",
    "    # Insert your code here:\n",
    "    for index in range(len(x_input)):\n",
    "        s += x_input[index] * w_weights[index]\n",
    "    s += bias\n",
    "    return s"
   ]
  },
  {
   "cell_type": "markdown",
   "id": "03eb2185",
   "metadata": {},
   "source": [
    "## Task 2: Implement the activation function\n",
    "---\n",
    "Input of the activation function is the result of weightedSum function. It returns one if the sum is greter than 0 else zero."
   ]
  },
  {
   "cell_type": "code",
   "execution_count": 2,
   "id": "e79a58a9",
   "metadata": {},
   "outputs": [],
   "source": [
    "def activation(s):\n",
    "    a = 0\n",
    "    # Insert your code here:\n",
    "    if s > 0:\n",
    "        a = 1\n",
    "    else:\n",
    "        a = 0\n",
    "    return a"
   ]
  },
  {
   "cell_type": "markdown",
   "id": "de2624ab",
   "metadata": {},
   "source": [
    "## Test your implementation with the following test cases"
   ]
  },
  {
   "cell_type": "code",
   "execution_count": 3,
   "id": "4ce266f9",
   "metadata": {},
   "outputs": [
    {
     "name": "stderr",
     "output_type": "stream",
     "text": [
      "test_activation (__main__.TestNotebook) ... ok\n",
      "test_weightedSum (__main__.TestNotebook) ... ok\n",
      "\n",
      "----------------------------------------------------------------------\n",
      "Ran 2 tests in 0.002s\n",
      "\n",
      "OK\n"
     ]
    },
    {
     "data": {
      "text/plain": [
       "<unittest.main.TestProgram at 0x1e185653370>"
      ]
     },
     "execution_count": 3,
     "metadata": {},
     "output_type": "execute_result"
    }
   ],
   "source": [
    "import unittest\n",
    "\n",
    "class TestNotebook(unittest.TestCase):\n",
    "\n",
    "    def test_weightedSum(self):\n",
    "        self.assertEqual(weightedSum([2, 4], [1, 0.5],-1), 3)\n",
    "\n",
    "    def test_activation(self):\n",
    "        self.assertEqual(activation(0.1), 1)\n",
    "        self.assertEqual(activation(0), 0)\n",
    "        self.assertEqual(activation(-1), 0)\n",
    "        \n",
    "unittest.main(argv=[''], verbosity=2, exit=False)"
   ]
  },
  {
   "cell_type": "code",
   "execution_count": 4,
   "id": "709205d2",
   "metadata": {},
   "outputs": [],
   "source": [
    "def perceptron(input_data,weights,bias,alpha):\n",
    "    while True:\n",
    "        # Start with the weights from t-1\n",
    "        new_weights = [i for i in weights]\n",
    "        new_bias = bias\n",
    "\n",
    "        # For each input data point\n",
    "        for input_datum in input_data:\n",
    "            # get input vector\n",
    "            x_input = input_datum[0]\n",
    "            # get target value\n",
    "            correct_value = input_datum[1]\n",
    "\n",
    "            # compute the weighted sum of weights\n",
    "            s = weightedSum(x_input, weights, bias)\n",
    "            \n",
    "            classified_value = activation(s)\n",
    "\n",
    "            # If the values are different, add an error to all weights and the bias\n",
    "            if classified_value != correct_value:\n",
    "                # Update all weights\n",
    "                for index in range(len(x_input)):\n",
    "                    weights[index] += alpha * (correct_value - classified_value) * x_input[index]\n",
    "                # Update bias\n",
    "                bias += alpha * (correct_value - classified_value)\n",
    "            # Else correct classified, do nothing \n",
    "            print(str(weights) + \" \" + str(bias))\n",
    "        print(\"\\n\")\n",
    "        # If there is no more change in weights or bias, return\n",
    "        if new_weights == weights and new_bias == bias:\n",
    "            return new_weights, bias"
   ]
  },
  {
   "cell_type": "markdown",
   "id": "9d595748",
   "metadata": {},
   "source": [
    "## Generate input data for the OR boolean function\n",
    "$x_1$ OR $x_2$\n",
    "\n",
    "| $x1$ | $x2$ | $y$ |\n",
    "| - | - | - |\n",
    "| 0 | 0 | 0 |\n",
    "| 0 | 1 | 1 |\n",
    "| 1 | 0 | 1 |\n",
    "| 1 | 1 | 1 |"
   ]
  },
  {
   "cell_type": "code",
   "execution_count": 5,
   "id": "a332da27",
   "metadata": {},
   "outputs": [
    {
     "name": "stdout",
     "output_type": "stream",
     "text": [
      "[1, 1] -1\n",
      "[1.0, 1.5] -0.5\n",
      "[1.0, 1.5] -0.5\n",
      "[1.0, 1.5] -0.5\n",
      "\n",
      "\n",
      "[1.0, 1.5] -0.5\n",
      "[1.0, 1.5] -0.5\n",
      "[1.0, 1.5] -0.5\n",
      "[1.0, 1.5] -0.5\n",
      "\n",
      "\n"
     ]
    }
   ],
   "source": [
    "weights = [1, 1]\n",
    "bias = -1\n",
    "alpha = 0.5\n",
    "input_data = [([0, 0], 0), ([0, 1], 1), ([1, 0], 1), ([1, 1], 1)]\n",
    "w, b = perceptron(input_data,weights,bias,alpha)"
   ]
  },
  {
   "cell_type": "markdown",
   "id": "3f0f30b1",
   "metadata": {},
   "source": [
    "## Generate input data for the AND boolean function\n",
    "$x_1$ AND $x_2$\n",
    "\n",
    "| $x1$ | $x2$ | $y$ |\n",
    "| - | - | - |\n",
    "| 0 | 0 | 0 |\n",
    "| 0 | 1 | 0 |\n",
    "| 1 | 0 | 0 |\n",
    "| 1 | 1 | 1 |\n"
   ]
  },
  {
   "cell_type": "code",
   "execution_count": 6,
   "id": "dae133f7",
   "metadata": {},
   "outputs": [
    {
     "name": "stdout",
     "output_type": "stream",
     "text": [
      "[0, 1] -1\n",
      "[0, 1] -1\n",
      "[0, 1] -1\n",
      "[0.5, 1.5] -0.5\n",
      "\n",
      "\n",
      "[0.5, 1.5] -0.5\n",
      "[0.5, 1.0] -1.0\n",
      "[0.5, 1.0] -1.0\n",
      "[0.5, 1.0] -1.0\n",
      "\n",
      "\n",
      "[0.5, 1.0] -1.0\n",
      "[0.5, 1.0] -1.0\n",
      "[0.5, 1.0] -1.0\n",
      "[0.5, 1.0] -1.0\n",
      "\n",
      "\n"
     ]
    }
   ],
   "source": [
    "weights = [0, 1]\n",
    "bias = -1\n",
    "alpha = 0.5\n",
    "input_data = [([0, 0], 0), ([0, 1], 0), ([1, 0], 0), ([1, 1], 1)]\n",
    "w, b = perceptron(input_data,weights,bias,alpha)"
   ]
  },
  {
   "cell_type": "code",
   "execution_count": null,
   "id": "a69dab4d",
   "metadata": {},
   "outputs": [],
   "source": []
  }
 ],
 "metadata": {
  "kernelspec": {
   "display_name": "Python 3 (ipykernel)",
   "language": "python",
   "name": "python3"
  },
  "language_info": {
   "codemirror_mode": {
    "name": "ipython",
    "version": 3
   },
   "file_extension": ".py",
   "mimetype": "text/x-python",
   "name": "python",
   "nbconvert_exporter": "python",
   "pygments_lexer": "ipython3",
   "version": "3.8.3"
  }
 },
 "nbformat": 4,
 "nbformat_minor": 5
}
